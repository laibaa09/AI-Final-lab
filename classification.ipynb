{
 "cells": [
  {
   "cell_type": "markdown",
   "metadata": {},
   "source": [
    "# LAB FINAL (ARTIFICIAL INTELLIGENCE)\n",
    "## SUBMITTED TO: SIR AHMED KHAN\n",
    "## NAME : LAIBA NAEEM\n",
    "## REG NO: SP21-BSE-041"
   ]
  },
  {
   "cell_type": "code",
   "execution_count": 1,
   "metadata": {},
   "outputs": [
    {
     "name": "stdout",
     "output_type": "stream",
     "text": [
      "WARNING:tensorflow:From c:\\Users\\laiba\\AppData\\Local\\Programs\\Python\\Python39\\lib\\site-packages\\keras\\src\\losses.py:2976: The name tf.losses.sparse_softmax_cross_entropy is deprecated. Please use tf.compat.v1.losses.sparse_softmax_cross_entropy instead.\n",
      "\n",
      "WARNING:tensorflow:From c:\\Users\\laiba\\AppData\\Local\\Programs\\Python\\Python39\\lib\\site-packages\\keras\\src\\backend.py:873: The name tf.get_default_graph is deprecated. Please use tf.compat.v1.get_default_graph instead.\n",
      "\n",
      "WARNING:tensorflow:From c:\\Users\\laiba\\AppData\\Local\\Programs\\Python\\Python39\\lib\\site-packages\\keras\\src\\layers\\pooling\\max_pooling2d.py:161: The name tf.nn.max_pool is deprecated. Please use tf.nn.max_pool2d instead.\n",
      "\n",
      "WARNING:tensorflow:From c:\\Users\\laiba\\AppData\\Local\\Programs\\Python\\Python39\\lib\\site-packages\\keras\\src\\optimizers\\__init__.py:309: The name tf.train.Optimizer is deprecated. Please use tf.compat.v1.train.Optimizer instead.\n",
      "\n",
      "Epoch 1/10\n",
      "WARNING:tensorflow:From c:\\Users\\laiba\\AppData\\Local\\Programs\\Python\\Python39\\lib\\site-packages\\keras\\src\\utils\\tf_utils.py:492: The name tf.ragged.RaggedTensorValue is deprecated. Please use tf.compat.v1.ragged.RaggedTensorValue instead.\n",
      "\n",
      "WARNING:tensorflow:From c:\\Users\\laiba\\AppData\\Local\\Programs\\Python\\Python39\\lib\\site-packages\\keras\\src\\engine\\base_layer_utils.py:384: The name tf.executing_eagerly_outside_functions is deprecated. Please use tf.compat.v1.executing_eagerly_outside_functions instead.\n",
      "\n",
      "625/625 [==============================] - 56s 70ms/step - loss: 1.6695 - accuracy: 0.1023 - val_loss: 1.4730 - val_accuracy: 0.0741\n",
      "Epoch 2/10\n",
      "625/625 [==============================] - 44s 70ms/step - loss: 1.3789 - accuracy: 0.0994 - val_loss: 1.2699 - val_accuracy: 0.0806\n",
      "Epoch 3/10\n",
      "625/625 [==============================] - 43s 68ms/step - loss: 1.2339 - accuracy: 0.0994 - val_loss: 1.0526 - val_accuracy: 0.0979\n",
      "Epoch 4/10\n",
      "625/625 [==============================] - 43s 68ms/step - loss: 1.1462 - accuracy: 0.1003 - val_loss: 1.0563 - val_accuracy: 0.0810\n",
      "Epoch 5/10\n",
      "625/625 [==============================] - 43s 69ms/step - loss: 1.0804 - accuracy: 0.0997 - val_loss: 0.9577 - val_accuracy: 0.0911\n",
      "Epoch 6/10\n",
      "625/625 [==============================] - 42s 67ms/step - loss: 1.0352 - accuracy: 0.0999 - val_loss: 0.9093 - val_accuracy: 0.0983\n",
      "Epoch 7/10\n",
      "625/625 [==============================] - 42s 67ms/step - loss: 0.9881 - accuracy: 0.1007 - val_loss: 0.9131 - val_accuracy: 0.1019\n",
      "Epoch 8/10\n",
      "625/625 [==============================] - 45s 72ms/step - loss: 0.9547 - accuracy: 0.0992 - val_loss: 0.9163 - val_accuracy: 0.0977\n",
      "Epoch 9/10\n",
      "625/625 [==============================] - 40s 65ms/step - loss: 0.9197 - accuracy: 0.0997 - val_loss: 1.0084 - val_accuracy: 0.1395\n",
      "Epoch 10/10\n",
      "625/625 [==============================] - 42s 68ms/step - loss: 0.8933 - accuracy: 0.1018 - val_loss: 0.8741 - val_accuracy: 0.0780\n",
      "313/313 [==============================] - 2s 8ms/step - loss: 0.8735 - accuracy: 0.0863\n",
      "Test Accuracy: 0.08630000054836273\n",
      "313/313 [==============================] - 2s 7ms/step\n",
      "Classification Report:\n",
      "               precision    recall  f1-score   support\n",
      "\n",
      "           0       0.82      0.71      0.76      1000\n",
      "           1       0.89      0.76      0.82      1000\n",
      "           2       0.82      0.38      0.52      1000\n",
      "           3       0.60      0.41      0.48      1000\n",
      "           4       0.62      0.67      0.64      1000\n",
      "           5       0.58      0.71      0.63      1000\n",
      "           6       0.66      0.87      0.75      1000\n",
      "           7       0.63      0.85      0.72      1000\n",
      "           8       0.86      0.81      0.83      1000\n",
      "           9       0.71      0.86      0.78      1000\n",
      "\n",
      "    accuracy                           0.70     10000\n",
      "   macro avg       0.72      0.70      0.69     10000\n",
      "weighted avg       0.72      0.70      0.69     10000\n",
      "\n",
      "Confusion Matrix:\n",
      " [[707  19  28  27  32  10  13  45  60  59]\n",
      " [  5 760   3   5   4   4  12  17  14 176]\n",
      " [ 55   1 381  51 153 126 127  75  13  18]\n",
      " [  8  10  13 406  92 245 115  75  15  21]\n",
      " [  8   1  11  33 670  35  96 129  11   6]\n",
      " [  4   1   7  79  46 708  46  93   4  12]\n",
      " [  3   4  10  29  30  30 867  22   0   5]\n",
      " [  5   1   4  23  41  53  12 846   2  13]\n",
      " [ 49  32   7  12   8   8  11  16 807  50]\n",
      " [ 19  29   3  12   4  12  15  26  16 864]]\n",
      "INFO:tensorflow:Assets written to: image_classification_model\\assets\n"
     ]
    },
    {
     "name": "stderr",
     "output_type": "stream",
     "text": [
      "INFO:tensorflow:Assets written to: image_classification_model\\assets\n"
     ]
    },
    {
     "name": "stdout",
     "output_type": "stream",
     "text": [
      "WARNING:tensorflow:From c:\\Users\\laiba\\AppData\\Local\\Programs\\Python\\Python39\\lib\\site-packages\\keras\\src\\saving\\legacy\\saved_model\\load.py:107: The name tf.gfile.Exists is deprecated. Please use tf.io.gfile.exists instead.\n",
      "\n"
     ]
    },
    {
     "name": "stderr",
     "output_type": "stream",
     "text": [
      "WARNING:tensorflow:From c:\\Users\\laiba\\AppData\\Local\\Programs\\Python\\Python39\\lib\\site-packages\\keras\\src\\saving\\legacy\\saved_model\\load.py:107: The name tf.gfile.Exists is deprecated. Please use tf.io.gfile.exists instead.\n",
      "\n"
     ]
    }
   ],
   "source": [
    "#importing libraries\n",
    "import keras\n",
    "import tensorflow as tf\n",
    "from keras import layers, models\n",
    "from keras.preprocessing.image import ImageDataGenerator\n",
    "from sklearn.model_selection import train_test_split\n",
    "from sklearn.metrics import classification_report, confusion_matrix\n",
    "\n",
    "#Load the CIFAR-10 dataset\n",
    "\n",
    "(x_train, y_train), (x_test, y_test) = keras.datasets.cifar10.load_data()\n",
    "\n",
    "x_train, x_test = x_train / 255.0, x_test / 255.0  # Normalize pixel values to [0, 1]\n",
    "\n",
    "#Augment the dataset\n",
    "\n",
    "datagen = ImageDataGenerator(\n",
    "    rotation_range=15,\n",
    "    width_shift_range=0.1,\n",
    "    height_shift_range=0.1,\n",
    "    horizontal_flip=True,\n",
    "    zoom_range=0.1\n",
    ")\n",
    "\n",
    "datagen.fit(x_train)\n",
    "\n",
    "#Building CNN model\n",
    "\n",
    "model = models.Sequential()\n",
    "model.add(layers.Conv2D(32, (3, 3), activation='relu', input_shape=(32, 32, 3)))\n",
    "model.add(layers.MaxPooling2D((2, 2)))\n",
    "model.add(layers.Conv2D(64, (3, 3), activation='relu'))\n",
    "model.add(layers.MaxPooling2D((2, 2)))\n",
    "model.add(layers.Conv2D(128, (3, 3), activation='relu'))\n",
    "model.add(layers.Flatten())\n",
    "model.add(layers.Dense(128, activation='relu'))\n",
    "model.add(layers.Dense(10, activation='softmax'))\n",
    "\n",
    "model.compile(optimizer='adam',\n",
    "              loss='sparse_categorical_crossentropy',\n",
    "              metrics=['accuracy'])\n",
    "\n",
    "#Data Splitting\n",
    "x_train, x_val, y_train, y_val = train_test_split(x_train, y_train, test_size=0.2, random_state=42)\n",
    "\n",
    "\n",
    "#Model Training\n",
    "history = model.fit(datagen.flow(x_train, y_train, batch_size=64),\n",
    "                    epochs=10,\n",
    "                    validation_data=(x_val, y_val))\n",
    "\n",
    "#Evaluate the model on the test set\n",
    "test_loss, test_acc = model.evaluate(x_test, y_test)\n",
    "print(f'Test Accuracy: {test_acc}')\n",
    "y_pred = model.predict(x_test)\n",
    "y_pred_classes = tf.argmax(y_pred, axis=1)\n",
    "print(\"Classification Report:\\n\", classification_report(y_test, y_pred_classes))\n",
    "print(\"Confusion Matrix:\\n\", confusion_matrix(y_test, y_pred_classes))\n",
    "\n",
    "#Saving model\n",
    "model.save('image_classification_model')\n",
    "\n",
    "loaded_model = keras.models.load_model('image_classification_model')"
   ]
  },
  {
   "cell_type": "code",
   "execution_count": null,
   "metadata": {},
   "outputs": [],
   "source": []
  }
 ],
 "metadata": {
  "kernelspec": {
   "display_name": "Python 3",
   "language": "python",
   "name": "python3"
  },
  "language_info": {
   "codemirror_mode": {
    "name": "ipython",
    "version": 3
   },
   "file_extension": ".py",
   "mimetype": "text/x-python",
   "name": "python",
   "nbconvert_exporter": "python",
   "pygments_lexer": "ipython3",
   "version": "3.9.0"
  }
 },
 "nbformat": 4,
 "nbformat_minor": 2
}
